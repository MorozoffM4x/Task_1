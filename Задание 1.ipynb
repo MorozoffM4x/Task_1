{
 "cells": [
  {
   "cell_type": "code",
   "execution_count": 1,
   "id": "8879511e",
   "metadata": {},
   "outputs": [],
   "source": [
    "#Импорты\n",
    "\n",
    "import ssl\n",
    "import urllib.request \n",
    "import requests\n",
    "import urllib3\n",
    "import shutil\n",
    "import os\n",
    "import xlrd\n",
    "from xlwt import Worksheet\n",
    "import xlwings as xw\n",
    "\n",
    "from openpyxl import Workbook\n",
    "from openpyxl import load_workbook\n",
    "from lxml import html, etree\n",
    "from urllib.request import urlopen\n",
    "from datetime import timedelta, datetime\n",
    "\n",
    "download_path = os.path.abspath('Download') + '\\\\'\n",
    "done_path = os.path.abspath('Done') + '\\\\'\n",
    "codes_con = [\"TERAVATT\", \"SOLARGEN\", \"ABAKANKS\", \"KREMTECH\", \"BUGULSES\", \"OSPRJKOM\", \"SUNPROJT\", \"SUNPROD2\", \"EFFEKTDB\", \"ECOENRUS\", \"PROJECT5\", \"PROJECT6\", \"UGKTGKN8\", \"KREMTECH\", \"UGKTGKN8\", \"FORTNGE2\", \"STARPROJ\"]"
   ]
  },
  {
   "cell_type": "code",
   "execution_count": 2,
   "id": "d0ebe39e",
   "metadata": {},
   "outputs": [],
   "source": [
    "#Отключение ошибки сертификата и предупреждений\n",
    "\n",
    "try:\n",
    "   _create_unverified_https_context = ssl._create_unverified_context\n",
    "except AttributeError:\n",
    "    pass\n",
    "else:\n",
    "    ssl._create_default_https_context = _create_unverified_https_context\n",
    "\n",
    "urllib3.disable_warnings()"
   ]
  },
  {
   "cell_type": "code",
   "execution_count": 3,
   "id": "31cbfd64",
   "metadata": {},
   "outputs": [],
   "source": [
    "#Даты\n",
    "\n",
    "dt_t = datetime.today()\n",
    "dt = dt_t.strftime(\"%Y%m%d\")\n",
    "period_day = 2 "
   ]
  },
  {
   "cell_type": "code",
   "execution_count": 4,
   "id": "da70fbac",
   "metadata": {},
   "outputs": [],
   "source": [
    "#Открыть файл -> найти индекс последней строки +1 -> Найти строку с кодом начиная с D4, скопировать её с А до Н ->\n",
    "#Вставить в последнюю строку -> Заменить дату в Н -> заполнить строку с I до GA включительно\n",
    "#openpyxl, как оказалось, не поддерживает .xls\n",
    "\n",
    "def write_row(date, rge, rows):\n",
    "    file = load_workbook(os.path.abspath('ТГ Конкуренты - задание.xlsm'), read_only=False, keep_vba=True)\n",
    "    sheet = file['Конкуренты']\n",
    "    max_row = sheet.max_row\n",
    "    \n",
    "    for a in range(4, max_row):\n",
    "        if sheet.cell(row=a, column=4).value == rge:\n",
    "            sheet.cell(row=a, column=8, value = datetime.strptime(date, \"%Y-%m-%d\").date())\n",
    "            col = 9\n",
    "            for m in rows:         \n",
    "                sheet.cell(row=a, column=col, value = m)\n",
    "                col += 1\n",
    "    file.save(os.path.abspath('ТГ Конкуренты - задание.xlsm'))"
   ]
  },
  {
   "cell_type": "code",
   "execution_count": 5,
   "id": "509947aa",
   "metadata": {},
   "outputs": [],
   "source": [
    "#Получить количество строк -1, начальная 8 -> записать в переменную rge данные из колонки А ->\n",
    "#Получить строку с данными с E до FW\n",
    "#xlrd, как оказалось, не поддерживает .xlsx\n",
    "\n",
    "def parse_files(dates, codes, filename):\n",
    "    file = download_path + filename\n",
    "    workbook = xlrd.open_workbook(file)\n",
    "    sheet = workbook.sheet_by_index(0)\n",
    "    \n",
    "    for a in range(7, sheet.nrows - 1):\n",
    "        rge = sheet.cell_value(a,0)\n",
    "        date = sheet.cell_value(2,2)\n",
    "        rows = sheet.row_values(a, 4, 179)\n",
    "        write_row(date, rge, rows)    \n"
   ]
  },
  {
   "cell_type": "code",
   "execution_count": 6,
   "id": "f6c7a89f",
   "metadata": {},
   "outputs": [],
   "source": [
    "#Парсинг страниц, закачка и сохранение файлов\n",
    "\n",
    "def download(dates):\n",
    "    if not os.path.exists(download_path):\n",
    "        os.makedirs(download_path)\n",
    "    headers = {'Content-Type': 'text/html',}\n",
    "    response = requests.get('https://www.atsenergo.ru/nreport?rname=carana_sell_units&region=eur&rdate=' + dates, headers = headers, verify = False)\n",
    "    html = response.text\n",
    "    \n",
    "    with open (download_path + 'atsenergo_' + dates + '.html', 'w') as f:\n",
    "        f.write(html)\n",
    "    \n",
    "    local = 'file:///'+ download_path + 'atsenergo_' + dates + '.html' \n",
    "    response = urlopen(local)\n",
    "    htmlparser = etree.HTMLParser()\n",
    "    tree = etree.parse(response, htmlparser)\n",
    "    \n",
    "    files_list_lxml = tree.xpath('//div[@class = \"reports_files\"]/table/tr/td[2]/a/@href')\n",
    "    text_list_lxml = tree.xpath('//div[@class = \"reports_files\"]/table/tr/td[2]/a/text()')\n",
    "    \n",
    "    lenght = len(files_list_lxml)\n",
    "    for a in range(lenght-1):\n",
    "        codes = text_list_lxml[a][9: -19]\n",
    "        \n",
    "        if codes in codes_con:\n",
    "            urllib.request.urlretrieve('https://www.atsenergo.ru/nreport'+files_list_lxml[a], download_path + text_list_lxml[a])\n",
    "            parse_files(dates, codes, text_list_lxml[a])"
   ]
  },
  {
   "cell_type": "code",
   "execution_count": 8,
   "id": "0dde474e",
   "metadata": {
    "scrolled": true
   },
   "outputs": [],
   "source": [
    "# Main\n",
    "for a in range(period_day):\n",
    "    dt2 = dt_t - timedelta(a)\n",
    "    date_today = dt2.strftime(\"%Y%m%d\")\n",
    "    \n",
    "    download(date_today)\n",
    "    shutil.rmtree(download_path)\n",
    "    \n",
    "    vba_book = xw.Book(os.path.abspath('ТГ Конкуренты - задание.xlsm'))\n",
    "    vba_macro = vba_book.macro(\"copy_1\")\n",
    "    vba_macro()"
   ]
  },
  {
   "cell_type": "code",
   "execution_count": null,
   "id": "e05c972e",
   "metadata": {},
   "outputs": [],
   "source": []
  }
 ],
 "metadata": {
  "kernelspec": {
   "display_name": "Python 3 (ipykernel)",
   "language": "python",
   "name": "python3"
  },
  "language_info": {
   "codemirror_mode": {
    "name": "ipython",
    "version": 3
   },
   "file_extension": ".py",
   "mimetype": "text/x-python",
   "name": "python",
   "nbconvert_exporter": "python",
   "pygments_lexer": "ipython3",
   "version": "3.10.9"
  }
 },
 "nbformat": 4,
 "nbformat_minor": 5
}
